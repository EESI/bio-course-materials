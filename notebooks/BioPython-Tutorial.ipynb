{
 "metadata": {
  "name": "",
  "signature": "sha256:4803ae738b4bedeacbda3a3414f39904915dc4bd4ccadfab14be20a1b84b024e"
 },
 "nbformat": 3,
 "nbformat_minor": 0,
 "worksheets": [
  {
   "cells": [
    {
     "cell_type": "markdown",
     "metadata": {},
     "source": [
      "# What is BioPython \n",
      "\n",
      "this is it\n",
      "\n",
      "In terms of getting help, BioPython has a very large [cookbook](http://biopython.org/DIST/docs/tutorial/Tutorial.html) full of examples, and as always, [Google](http://google.com) is your best friend. \n",
      "\n",
      "# BioPython and Support from External Tools\n",
      "\n",
      "Biopython includes support for interfacing with or parsing the output from a number of third party command line tools. These tools are not required to install Biopython, but may be of interest. This includes:\n",
      "\n",
      "* NCBI Standalone BLAST, which can used with the Bio.Blast module and parsed with the Bio.SearchIO module.\n",
      "* EMBOSS tools, which can be invoked using the Bio.Emboss module. The Bio.AlignIO module can also parse some alignment formats output by the EMBOSS suite.\n",
      "* ClustalW, which can be parsed using Bio.AlignIO and invoked using the Bio.Align.Applications module.\n",
      "* SIMCOAL2 and FDist tools for population genetics can be used via the Bio.PopGen module.\n",
      "* Bill Pearson\u2019s FASTA tools output can be parsed using the Bio.AlignIO and Bio.SearchIO module.\n",
      "* Wise2 includes the useful tool dnal.\n",
      "\n",
      "See also the listing on http://biopython.org/wiki/Download which should include URLs for these tools, and may also be more up to date.\n",
      "\n"
     ]
    },
    {
     "cell_type": "code",
     "collapsed": false,
     "input": [
      "import Bio as bio\n",
      "print \"BioPython Version: \"+str(bio.__version__)"
     ],
     "language": "python",
     "metadata": {},
     "outputs": []
    },
    {
     "cell_type": "markdown",
     "metadata": {},
     "source": [
      "# Basic Sequence Tools\n",
      "\n",
      "Sequences in bioinformatics can simply be interpreted as being strings. BioPython represents sequences with the `Seq` object, which contains properties beyond that of a simple string object. For example, the *Alphabet* of the sequence can be specified (and also obtained). More about the `Seq` class can be found on BioPython's [API](http://biopython.org/DIST/docs/api/Bio.Seq.Seq-class.html). It is possible to convert the sequence to a string using Python's built in `str` command (e.g., `str(my_sequence)`). Some useful methods of `Seq` object include:\n",
      "\n",
      "* `find`: Find method, like that of a python string\n",
      "* `startswith`: Does the Seq start with the given prefix? \n",
      "* `endswith`: Does the Seq end with the given suffix? \n",
      "* `complement`: Returns the complement sequence \n",
      "* `reverse_complement`: Returns the reverse complement sequence. \n",
      "* `transcribe`: Returns the RNA sequence from a DNA sequence \n",
      "* `back_transcribe`: Returns the DNA sequence from a RNA sequence \n",
      "* `translate`: Turns a nucleotide sequence into a protein sequence. \n",
      "\n",
      "Now let us look at a few simple sequence operations. "
     ]
    },
    {
     "cell_type": "code",
     "collapsed": false,
     "input": [
      "from Bio.Seq import Seq \n",
      "\n",
      "# working with sequences \n",
      "my_seq = Seq(\"AGTACACTGGT\") \n",
      "print \"sequence: AGTACACTGGT\" \n",
      "print \"complement: \"+my_seq.complement() \n",
      "print \"reverse complement: \"+ my_seq.reverse_complement()\n",
      "print \"transcribe: \" + my_seq.transcribe() # my_rna = my_seq.transcribe()\n",
      "print \"slice[2:4]: \" + my_seq[2:4]\n",
      "my_rna = my_seq.transcribe()\n",
      "my_dna = my_rna.back_transcribe() "
     ],
     "language": "python",
     "metadata": {},
     "outputs": []
    },
    {
     "cell_type": "code",
     "collapsed": false,
     "input": [
      "from Bio.Alphabet import generic_rna,generic_dna \n",
      "messenger_rna = Seq(\"AUGGCCAUUGUAAUGGGCCGCUGAAAGGGUGCCCGAUAG\", generic_rna) \n",
      "messenger_rna.translate() "
     ],
     "language": "python",
     "metadata": {},
     "outputs": []
    },
    {
     "cell_type": "markdown",
     "metadata": {},
     "source": [
      "# Basic FileIO\n",
      "\n",
      "This  it"
     ]
    },
    {
     "cell_type": "code",
     "collapsed": false,
     "input": [
      "from Bio import SeqIO\n",
      "\n",
      "# we can parse the fasta file and read the sequences in by looping over \n",
      "# the iterator returned by SeqIO.parse()\n",
      "sequences = {}  # empty dictionary \n",
      "for seq_record in SeqIO.parse(\"../data/ls_orchid.fasta\", \"fasta\"):\n",
      "    sequences[seq_record.id] = seq_record.seq\n",
      "\n",
      "# an alternative way to do this can be done with one line of code\n",
      "sequences2 = {s.id:s.seq for s in SeqIO.parse(\"../data/ls_orchid.fasta\", \"fasta\")}\n",
      "\n",
      "print sequences2.keys()[0]\n",
      "print sequences2[sequences2.keys()[0]]  # print the first sequence "
     ],
     "language": "python",
     "metadata": {},
     "outputs": []
    },
    {
     "cell_type": "markdown",
     "metadata": {},
     "source": [
      "# Accessing the Entrez Database\n",
      "\n",
      "This is more"
     ]
    },
    {
     "cell_type": "code",
     "collapsed": false,
     "input": [
      "from Bio import Entrez \n",
      "from Bio.SeqRecord import SeqRecord\n",
      "\n",
      "terms = [\"cytochrome oxidase i AND viridiplantae[Organism] and 450:2000[Sequence Length]\",\n",
      "         \"cytochrome oxidase i AND fungi[Organism] and 450:2000[Sequence Length]\",\n",
      "         \"cytochrome oxidase i AND animalia[Organism] and 450:2000[Sequence Length]\"\n",
      "         ]\n",
      "Entrez.email = \"gregscodeisdone@gmail.com\"   # you should put your email in here!\n",
      "top_records = []\n",
      "\n",
      "for term in terms:  # I could do this in 1 line if I wanted to!\n",
      "    handle = Entrez.esearch(db=\"nucleotide\", term=term)\n",
      "    top_records.append(Entrez.read(handle)[\"IdList\"][0])\n",
      "# Entrez = [Entrez.read(Entrez.esearch(db=\"nucleotide\", term=term))[\"IdList\"][0] for term in terms]\n",
      "\n",
      "handle = Entrez.efetch(db=\"nucleotide\", id=\",\".join(top_records), rettype=\"gb\", retmode=\"xml\")\n",
      "genbank_records = Entrez.read(handle)\n",
      "print \"First Genbank record keys: \" + str(genbank_records[0].keys())\n",
      "print \"\" \n",
      "print \"First Genbank sequence (\" + genbank_records[0][\"GBSeq_primary-accession\"] + \"): \" + genbank_records[0][\"GBSeq_sequence\"]\n",
      "\n",
      "fasta_records = []\n",
      "for record in genbank_records:\n",
      "    seq_record = SeqRecord(Seq(record[\"GBSeq_sequence\"]), id=record[\"GBSeq_primary-accession\"], description=record[\"GBSeq_definition\"])\n",
      "    fasta_records.append(seq_record)\n",
      "\n",
      "with open(\"../data/my_seqs.fa\",\"w\") as fasta_file:\n",
      "    SeqIO.write(fasta_records, fasta_file, \"fasta\")\n"
     ],
     "language": "python",
     "metadata": {},
     "outputs": []
    },
    {
     "cell_type": "code",
     "collapsed": false,
     "input": [
      "%%bash \n",
      "cat ../data/my_seqs.fa"
     ],
     "language": "python",
     "metadata": {},
     "outputs": []
    },
    {
     "cell_type": "markdown",
     "metadata": {},
     "source": [
      "# BLAST\n",
      "\n",
      "BLAST can be run with BioPython either from using the command line tools -- provided they are installed -- or through the web. In this section, we use the `qblast` from the `Bio.Blast.NCBIWWW` module to call the online version of BLAST. Note that the results would be the same if we were to use the command line tools. As pointed out from the `qblast` documentation, there are three required arguments:\n",
      "\n",
      "* The first argument is the blast program to use for the search, as a lower case string. The options and descriptions of the programs are available at <http://www.ncbi.nlm.nih.gov/BLAST/blast_program.shtml>. Currently `qblast` only works with blastn, blastp, blastx, tblast and tblastx.\n",
      "* The second argument specifies the databases to search against. Again, the options for this are available on the NCBI web pages at <http://www.ncbi.nlm.nih.gov/BLAST/blast_databases.shtml>. \n",
      "* The third argument is a string containing your query sequence. This can either be the sequence itself, the sequence in fasta format, or an identifier like a GI number. \n",
      "\n",
      "The default output format for `qblast` is XML; however, we shall use other methods in BioPython to convert the results in the XML file to a more interpretable and managable output. "
     ]
    },
    {
     "cell_type": "code",
     "collapsed": false,
     "input": [
      "from Bio.Blast import NCBIWWW, NCBIXML\n",
      "\n",
      "E_VALUE_THRESH = 0.01\n",
      "s_len = 100\n",
      "\n",
      "# search against the nucleotide database (nt) using BLASTN, and you know the GI number \n",
      "result_handle = NCBIWWW.qblast(\"blastn\", \"nt\", \"449020131\", alignments=50) # 449020131, 8332116\n",
      "blast_records = NCBIXML.read(result_handle) \n",
      "\n",
      "for alignment in blast_record.alignments[:5]:\n",
      "    for hsp in alignment.hsps: \n",
      "        if hsp.expect < E_VALUE_THRESH: \n",
      "            print \"****Alignment****\"\n",
      "            print \"sequence:\", alignment.title \n",
      "            print \"length:\", alignment.length \n",
      "            print \"e value:\", hsp.expect \n",
      "            print hsp.query[0:s_len] + \"...\" \n",
      "            print hsp.match[0:s_len] + \"...\" \n",
      "            print hsp.sbjct[0:s_len] + \"...\" \n",
      " "
     ],
     "language": "python",
     "metadata": {},
     "outputs": []
    },
    {
     "cell_type": "code",
     "collapsed": false,
     "input": [
      "seq = \"ataccaggctgaggcccattaatgatgcaatttgctgggcttctctattttctccgtgcttccatcctcttctccgtcggcggggagaagtgaaatgccgtggagatgggcggcggcggcggcgacggcggcgacgagaaagctcaccgggatctctcagtcgcgagtttcagtagcctttaccggccgtcttctctaccgctcgttcggaagcgactccagtgaaagccgcaagaggtcactgccacggggggtcgtatcgatcggggccatcagccttgctggaggtctcgtgctcagcgccgtcaacgacctcgccatcttcaatggatgcacaacgaaggcaattgagcatgctgctgacaaccctgctgttgtggaagcaattggagtgcctatagtcagaggaccgtggtatgatgcttctcttgaggtgggccatcgacggcggtctgtgtcatgcacattccctgtatctgggccacatgggtcaggatttctccagattaaggcaacccgagatggagaggatggtctgctttcgtttctgcggcatcacgactggaagatcctattgctggaggctcatcttgaagcaccatcagatgatgaggaccagagaaagctggttaaggtgaatcttgcaagcagtggccgtggggaagatggggatccagagagtggttaatcttttgtactgaattccatggtgagtggaagatcgtgtcatctgaatggactccaaatattaaatgacatggagatctagggaagcaaaaaaaaaaaaaaaa \"\n",
      "result_handle = NCBIWWW.qblast(\"blastn\", \"nt\", seq) \n",
      "blast_records = NCBIXML.read(result_handle) \n",
      "\n",
      "for alignment in blast_record.alignments[:5]:\n",
      "    for hsp in alignment.hsps: \n",
      "        if hsp.expect < E_VALUE_THRESH: \n",
      "            print \"****Alignment****\"\n",
      "            print \"sequence:\", alignment.title \n",
      "            print \"length:\", alignment.length \n",
      "            print \"e value:\", hsp.expect \n",
      "            print hsp.query[0:s_len] + \"...\" \n",
      "            print hsp.match[0:s_len] + \"...\" \n",
      "            print hsp.sbjct[0:s_len] + \"...\" \n",
      " "
     ],
     "language": "python",
     "metadata": {},
     "outputs": []
    },
    {
     "cell_type": "code",
     "collapsed": false,
     "input": [],
     "language": "python",
     "metadata": {},
     "outputs": []
    }
   ],
   "metadata": {}
  }
 ]
}